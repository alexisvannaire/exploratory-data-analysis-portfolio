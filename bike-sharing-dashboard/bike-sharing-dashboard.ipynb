{
 "cells": [
  {
   "cell_type": "markdown",
   "id": "d8ed786f",
   "metadata": {},
   "source": [
    "# Bike Sharing Made Clear: A Dashboard Summarizing Essential Patterns"
   ]
  },
  {
   "cell_type": "markdown",
   "id": "c3649d65",
   "metadata": {},
   "source": [
    "In this notebook, I'm going to summarize the Bike Sharing dataset using statistics and data visualization.\n",
    "\n",
    "---\n",
    "\n",
    "The dashboard has been generated using Python, specifically with the PIL library for image manipulation and Plotly for creating interactive, informative charts."
   ]
  },
  {
   "cell_type": "markdown",
   "id": "7d084afd",
   "metadata": {},
   "source": [
    "### Dataset Overview\n",
    "\n",
    "The Capital Bikeshare dataset includes detailed records of bike rentals, capturing hourly and daily counts over 2011-2012. Each entry provides *temporal information* (such as date and hour), indicators related to *working conditions* (holiday, weekday, working day), and relevant *weather variables* (temperature, humidity, weather conditions). Additionally, the dataset tracks the total number of rentals, with a breakdown between *registered* and *casual* users.\n",
    "\n",
    "\n",
    "You can find this dataset on Kaggle: \n",
    "\n",
    "https://www.kaggle.com/datasets/lakshmi25npathi/bike-sharing-dataset \n",
    "\n",
    "or on UCI: \n",
    "\n",
    "https://archive.ics.uci.edu/dataset/275/bike+sharing+dataset\n",
    "\n",
    "This is the description you will find in the Readme:\n",
    "    \n",
    "*\" Bike-sharing rental process is highly correlated to the environmental and seasonal settings. For instance, weather conditions, precipitation, day of week, season, hour of the day, etc. can affect the rental behaviors. The core data set is related to the two-year historical log corresponding to years 2011 and 2012 from Capital Bikeshare system, Washington D.C., USA which is \n",
    "publicly available in http://capitalbikeshare.com/system-data. We aggregated the data on two hourly and daily basis and then extracted and added the corresponding weather and seasonal information. Weather information are extracted from http://www.freemeteo.com \"*"
   ]
  },
  {
   "cell_type": "markdown",
   "id": "0cc0c99f",
   "metadata": {},
   "source": [
    "## Dashboard"
   ]
  },
  {
   "cell_type": "markdown",
   "id": "8fbbb7f0",
   "metadata": {},
   "source": [
    "![dashboard](imgs/dashboard.png \"dashboard\")"
   ]
  },
  {
   "cell_type": "markdown",
   "id": "34c16684",
   "metadata": {},
   "source": [
    "### 1. Understanding User Trends"
   ]
  },
  {
   "cell_type": "markdown",
   "id": "717ca500",
   "metadata": {},
   "source": [
    "The first row highlights significant growth metrics:\n",
    "    \n",
    "* **Annual Bike Rentals increased by 64.9%**, driven by a rise in registered users (+68.4%) and casual users (+50.8%).\n",
    "\n",
    "* Quarterly analysis reveals strong year-over-year growth across all quarters, peaking in **Q1 (+142.4%)** and remaining robust throughout the year."
   ]
  },
  {
   "cell_type": "markdown",
   "id": "f1a9f097",
   "metadata": {},
   "source": [
    "### 2. Visualizing Seasonal Patterns"
   ]
  },
  {
   "cell_type": "markdown",
   "id": "87b00b79",
   "metadata": {},
   "source": [
    "Stacked bar charts clearly show monthly and quarterly rental patterns, emphasizing seasonal fluctuations. Usage peaks during warmer months, highlighting the impact of weather on rental decisions for both registered and casual users."
   ]
  },
  {
   "cell_type": "markdown",
   "id": "ae71b963",
   "metadata": {},
   "source": [
    "### 3. Profiling Users by Behavior and Temperature"
   ]
  },
  {
   "cell_type": "markdown",
   "id": "719fdf3c",
   "metadata": {},
   "source": [
    "* **Weekly Trends:** Registered users have consistent commuting patterns throughout weekdays, whereas casual users peak significantly on weekends, indicating recreational use.\n",
    "\n",
    "* **Temperature Influence:** Scatterplots reveal a clear positive relationship between temperature and bike rentals for both casual and registered users, emphasizing the importance of favorable weather conditions. But also that low temperatures play a stronger role in rental decisions for the casual users. This again supports the recreational use argument."
   ]
  },
  {
   "cell_type": "markdown",
   "id": "d1e00242",
   "metadata": {},
   "source": [
    "### 4. Daily Usage Dynamics"
   ]
  },
  {
   "cell_type": "markdown",
   "id": "c944b3d8",
   "metadata": {},
   "source": [
    "* **Average Distribution:** Pie chart indicates that registered users constitute the majority (81.2%) of daily average rentals.\n",
    "\n",
    "* **Histograms for Morning, Afternoon, and Evening Bike Rentals:** display the global distribution of hourly bike rentals during the morning, afternoon, and evening periods. Typically, the number of bikes rented ranges between 50 to 200 in the morning and evening, while afternoon rentals are generally higher, ranging from 100 to 350. Additionally, there are occasional peak times where over 800 bikes are rented in an hour, indicating particularly busy periods."
   ]
  },
  {
   "cell_type": "markdown",
   "id": "19597b8b",
   "metadata": {},
   "source": [
    "### Conclusion\n",
    "\n",
    "This dashboard not only illustrates data-driven insights from the Capital Bikeshare system but also demonstrates the power of effective data visualization. By understanding these patterns, cities and operators can optimize bike-sharing services, improve user experience, and promote sustainable urban transportation.\n",
    "\n",
    "Other charts, using different variables or visualization formats, can be added and customized according to specific requirements. In any case, I hope this example inspires you and provides ideas for creating your own insightful dashboards.\n",
    "\n",
    "Thanks for reading!"
   ]
  },
  {
   "cell_type": "code",
   "execution_count": null,
   "id": "05216b89",
   "metadata": {},
   "outputs": [],
   "source": []
  }
 ],
 "metadata": {
  "kernelspec": {
   "display_name": "personal_projects",
   "language": "python",
   "name": "personal_projects"
  },
  "language_info": {
   "codemirror_mode": {
    "name": "ipython",
    "version": 3
   },
   "file_extension": ".py",
   "mimetype": "text/x-python",
   "name": "python",
   "nbconvert_exporter": "python",
   "pygments_lexer": "ipython3",
   "version": "3.8.16"
  }
 },
 "nbformat": 4,
 "nbformat_minor": 5
}
